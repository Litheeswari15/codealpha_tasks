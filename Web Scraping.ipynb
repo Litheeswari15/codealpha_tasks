{
 "cells": [
  {
   "cell_type": "markdown",
   "id": "74d91f29-1137-4633-9cee-e0e4d5ac56a8",
   "metadata": {},
   "source": [
    "# **Importing Necessary Libraries**"
   ]
  },
  {
   "cell_type": "code",
   "execution_count": 2,
   "id": "d120ab1e-34e2-4164-9bd6-c4e06da944a0",
   "metadata": {},
   "outputs": [],
   "source": [
    "import requests\n",
    "from bs4 import BeautifulSoup\n",
    "import pandas as pd"
   ]
  },
  {
   "cell_type": "markdown",
   "id": "4e0274ba-6e9b-426b-b7a3-16dde7a42023",
   "metadata": {},
   "source": [
    "# **Define the URL**"
   ]
  },
  {
   "cell_type": "code",
   "execution_count": 7,
   "id": "7e14b06e-b329-4228-8473-e32dcc320014",
   "metadata": {},
   "outputs": [],
   "source": [
    "url = 'https://techcrunch.com'"
   ]
  },
  {
   "cell_type": "markdown",
   "id": "34cd186c-b15a-4c8b-96e6-e2f6d3b21364",
   "metadata": {},
   "source": [
    "# **Set headers to mimic a real browser**"
   ]
  },
  {
   "cell_type": "code",
   "execution_count": 12,
   "id": "206431c0-e60a-402d-b8eb-9fd987c560cc",
   "metadata": {},
   "outputs": [],
   "source": [
    "headers = {\n",
    "    'User-Agent': 'Mozilla/5.0 (Windows NT 10.0; Win64; x64)'\n",
    "}"
   ]
  },
  {
   "cell_type": "markdown",
   "id": "4dd06c41-6145-4d71-bb90-629f2b6aedf5",
   "metadata": {},
   "source": [
    "# **Send the HTTP request**"
   ]
  },
  {
   "cell_type": "code",
   "execution_count": 15,
   "id": "948b142e-2ef0-42c1-be31-7c39348cf308",
   "metadata": {},
   "outputs": [],
   "source": [
    "response = requests.get(url, headers=headers)\n"
   ]
  },
  {
   "cell_type": "markdown",
   "id": "a68099fd-c24c-46e0-89fd-2d99cd806c00",
   "metadata": {},
   "source": [
    "# **Parse the response with BeautifulSoup**"
   ]
  },
  {
   "cell_type": "code",
   "execution_count": 20,
   "id": "3df3ab33-5c38-4c1f-aabc-4fb3acdf008e",
   "metadata": {},
   "outputs": [],
   "source": [
    "soup = BeautifulSoup(response.content, 'html.parser')"
   ]
  },
  {
   "cell_type": "markdown",
   "id": "c7499163-6d74-4c6e-8656-02e70a01d4fe",
   "metadata": {},
   "source": [
    "# **Select all headline <a> tags for articles**"
   ]
  },
  {
   "cell_type": "code",
   "execution_count": 23,
   "id": "37fc149c-5b79-494e-b849-3b4c50e4b8d7",
   "metadata": {},
   "outputs": [],
   "source": [
    "headline_tags = soup.select('a.post-block_title_link')"
   ]
  },
  {
   "cell_type": "markdown",
   "id": "d5d551ba-c191-48e8-914c-d83047cff1c7",
   "metadata": {},
   "source": [
    "# **Extract title and link from each headline**"
   ]
  },
  {
   "cell_type": "code",
   "execution_count": 26,
   "id": "e09a1b72-dc48-442b-957a-13c8ccc89e0f",
   "metadata": {},
   "outputs": [],
   "source": [
    "news_data = []\n",
    "\n",
    "for tag in headline_tags:\n",
    "    title = tag.get_text(strip=True)\n",
    "    link = tag.get('href')\n",
    "\n",
    "    if not title or len(title) < 5:\n",
    "        continue\n",
    "\n",
    "    news_data.append({\n",
    "        'Title': title,\n",
    "        'Link': link\n",
    "    })\n"
   ]
  },
  {
   "cell_type": "markdown",
   "id": "5e6d6414-3b3f-4962-b83b-cffdf02ff95e",
   "metadata": {},
   "source": [
    "# **Remove duplicates and save as CSV**"
   ]
  },
  {
   "cell_type": "code",
   "execution_count": 29,
   "id": "42981afd-8fb9-4f36-945a-d1641d862a66",
   "metadata": {},
   "outputs": [],
   "source": [
    "df = pd.DataFrame(news_data).drop_duplicates().reset_index(drop=True)\n",
    "df.to_csv(\"techcrunch_tech_news.csv\", index=False)"
   ]
  },
  {
   "cell_type": "markdown",
   "id": "5aeab295-b1f0-4914-8d96-be28b17da252",
   "metadata": {},
   "source": [
    "# **Print sample rows**"
   ]
  },
  {
   "cell_type": "code",
   "execution_count": 34,
   "id": "78eb62cc-aa27-4fbb-93c1-487d429d8e91",
   "metadata": {},
   "outputs": [
    {
     "name": "stdout",
     "output_type": "stream",
     "text": [
      "Scraping successful! Sample data:\n",
      "Empty DataFrame\n",
      "Columns: []\n",
      "Index: []\n"
     ]
    }
   ],
   "source": [
    "print(\"Scraping successful! Sample data:\")\n",
    "print(df.head())"
   ]
  },
  {
   "cell_type": "code",
   "execution_count": null,
   "id": "6d9f0293-a738-464b-8637-c1ae95718198",
   "metadata": {},
   "outputs": [],
   "source": []
  }
 ],
 "metadata": {
  "kernelspec": {
   "display_name": "Python 3 (ipykernel)",
   "language": "python",
   "name": "python3"
  },
  "language_info": {
   "codemirror_mode": {
    "name": "ipython",
    "version": 3
   },
   "file_extension": ".py",
   "mimetype": "text/x-python",
   "name": "python",
   "nbconvert_exporter": "python",
   "pygments_lexer": "ipython3",
   "version": "3.12.4"
  }
 },
 "nbformat": 4,
 "nbformat_minor": 5
}
